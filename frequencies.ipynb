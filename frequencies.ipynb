{
 "cells": [
  {
   "cell_type": "code",
   "execution_count": 25,
   "id": "62cf115b-7403-4318-bb1f-65a9591a9509",
   "metadata": {},
   "outputs": [
    {
     "name": "stdout",
     "output_type": "stream",
     "text": [
      "1.4\n"
     ]
    }
   ],
   "source": [
    "data = [1., 2., 3., 4., 5., 6., 7., 8., 9., 10., 11., 12., 13., 14., 15.,]\n",
    "pitch = 10\n",
    "data_min = min(data)\n",
    "data_max = max(data)\n",
    "step = (data_max - data_min) / pitch\n",
    "print(step)"
   ]
  },
  {
   "cell_type": "code",
   "execution_count": 26,
   "id": "8f176732-79f7-41e9-8901-c9131f7dc77c",
   "metadata": {},
   "outputs": [
    {
     "name": "stdout",
     "output_type": "stream",
     "text": [
      "[2, 1, 2, 1, 1, 2, 1, 2, 1, 1, 1]\n"
     ]
    }
   ],
   "source": [
    "freqs = [0] * (pitch + 1)\n",
    "for x in data:\n",
    "    for i in range(pitch + 1):\n",
    "        limit = data_min + (i + 1) * step\n",
    "        if x < limit:\n",
    "            freqs[i] += 1\n",
    "            break\n",
    "print(freqs)"
   ]
  },
  {
   "cell_type": "code",
   "execution_count": null,
   "id": "65c62f1a-64a0-4a0c-bf34-c64f9fd84918",
   "metadata": {},
   "outputs": [],
   "source": []
  }
 ],
 "metadata": {
  "kernelspec": {
   "display_name": "Python 3 (ipykernel)",
   "language": "python",
   "name": "python3"
  },
  "language_info": {
   "codemirror_mode": {
    "name": "ipython",
    "version": 3
   },
   "file_extension": ".py",
   "mimetype": "text/x-python",
   "name": "python",
   "nbconvert_exporter": "python",
   "pygments_lexer": "ipython3",
   "version": "3.10.10"
  }
 },
 "nbformat": 4,
 "nbformat_minor": 5
}
