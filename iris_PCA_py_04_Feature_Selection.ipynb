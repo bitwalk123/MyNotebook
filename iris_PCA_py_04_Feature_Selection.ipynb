{
 "cells": [
  {
   "cell_type": "markdown",
   "id": "98d6c849-f7d7-404e-a2ab-1de00ac055fa",
   "metadata": {},
   "source": [
    "# Principal Component Analysis & Feature Selection"
   ]
  },
  {
   "cell_type": "markdown",
   "id": "84fa50c4-8fbc-4286-979a-cf53b2f822ca",
   "metadata": {},
   "source": [
    "## PCA"
   ]
  },
  {
   "cell_type": "code",
   "execution_count": 1,
   "id": "4583d363-4c65-4899-b163-27511eaf8b50",
   "metadata": {},
   "outputs": [
    {
     "name": "stderr",
     "output_type": "stream",
     "text": [
      "[0104/171821.005119:WARNING:sandbox_linux.cc(380)] InitializeSandbox() called with multiple threads in process gpu-process.\n",
      "[0104/171821.781979:WARNING:bluez_dbus_manager.cc(247)] Floss manager not present, cannot set Floss enable/disable.\n",
      "[0104/171822.058644:INFO:headless_shell.cc(623)] Written to file /tmp/tmpceyvoqq1/temp.png.\n"
     ]
    },
    {
     "data": {
      "text/html": [
       "<div>\n",
       "<style scoped>\n",
       "    .dataframe tbody tr th:only-of-type {\n",
       "        vertical-align: middle;\n",
       "    }\n",
       "\n",
       "    .dataframe tbody tr th {\n",
       "        vertical-align: top;\n",
       "    }\n",
       "\n",
       "    .dataframe thead th {\n",
       "        text-align: right;\n",
       "    }\n",
       "</style>\n",
       "<table border=\"1\" class=\"dataframe\">\n",
       "  <thead>\n",
       "    <tr style=\"text-align: right;\">\n",
       "      <th></th>\n",
       "      <th>Species</th>\n",
       "      <th>PC1</th>\n",
       "      <th>PC2</th>\n",
       "      <th>PC3</th>\n",
       "      <th>PC4</th>\n",
       "    </tr>\n",
       "    <tr>\n",
       "      <th>Id</th>\n",
       "      <th></th>\n",
       "      <th></th>\n",
       "      <th></th>\n",
       "      <th></th>\n",
       "      <th></th>\n",
       "    </tr>\n",
       "  </thead>\n",
       "  <tbody>\n",
       "    <tr>\n",
       "      <th>1</th>\n",
       "      <td>Iris-setosa</td>\n",
       "      <td>-2.264542</td>\n",
       "      <td>0.505704</td>\n",
       "      <td>-0.121943</td>\n",
       "      <td>-0.023073</td>\n",
       "    </tr>\n",
       "    <tr>\n",
       "      <th>2</th>\n",
       "      <td>Iris-setosa</td>\n",
       "      <td>-2.086426</td>\n",
       "      <td>-0.655405</td>\n",
       "      <td>-0.227251</td>\n",
       "      <td>-0.103208</td>\n",
       "    </tr>\n",
       "    <tr>\n",
       "      <th>3</th>\n",
       "      <td>Iris-setosa</td>\n",
       "      <td>-2.367950</td>\n",
       "      <td>-0.318477</td>\n",
       "      <td>0.051480</td>\n",
       "      <td>-0.027825</td>\n",
       "    </tr>\n",
       "    <tr>\n",
       "      <th>4</th>\n",
       "      <td>Iris-setosa</td>\n",
       "      <td>-2.304197</td>\n",
       "      <td>-0.575368</td>\n",
       "      <td>0.098860</td>\n",
       "      <td>0.066311</td>\n",
       "    </tr>\n",
       "    <tr>\n",
       "      <th>5</th>\n",
       "      <td>Iris-setosa</td>\n",
       "      <td>-2.388777</td>\n",
       "      <td>0.674767</td>\n",
       "      <td>0.021428</td>\n",
       "      <td>0.037397</td>\n",
       "    </tr>\n",
       "  </tbody>\n",
       "</table>\n",
       "</div>"
      ],
      "text/plain": [
       "        Species       PC1       PC2       PC3       PC4\n",
       "Id                                                     \n",
       "1   Iris-setosa -2.264542  0.505704 -0.121943 -0.023073\n",
       "2   Iris-setosa -2.086426 -0.655405 -0.227251 -0.103208\n",
       "3   Iris-setosa -2.367950 -0.318477  0.051480 -0.027825\n",
       "4   Iris-setosa -2.304197 -0.575368  0.098860  0.066311\n",
       "5   Iris-setosa -2.388777  0.674767  0.021428  0.037397"
      ]
     },
     "execution_count": 1,
     "metadata": {},
     "output_type": "execute_result"
    }
   ],
   "source": [
    "import pandas as pd\n",
    "import dataframe_image as dfi\n",
    "from sklearn.pipeline import Pipeline\n",
    "from sklearn.preprocessing import StandardScaler\n",
    "from sklearn.decomposition import PCA\n",
    "\n",
    "# https://www.kaggle.com/datasets/saurabh00007/iriscsv\n",
    "filename = 'Iris.csv'\n",
    "df = pd.read_csv(filename, index_col=0)\n",
    "cols_x = list(df.columns[0:4])\n",
    "col_y = df.columns[4]\n",
    "\n",
    "# model pipeline for PCA\n",
    "pipe = Pipeline(steps=[\n",
    "    ('scaler', StandardScaler()),\n",
    "    ('PCA', PCA()),\n",
    "])\n",
    "features = df[cols_x]\n",
    "pipe.fit(features)\n",
    "\n",
    "# PCA scores\n",
    "scores = pipe.transform(features)\n",
    "df_pca = pd.DataFrame(\n",
    "    scores,\n",
    "    columns=[\"PC{}\".format(x + 1) for x in range(scores.shape[1])],\n",
    "    index=df.index\n",
    ")\n",
    "cols_pc = list(df_pca.columns)\n",
    "df_pca.insert(0, col_y, df[col_y].copy())\n",
    "dfi.export(df_pca.head(), 'table_031_iris_PCA.png')\n",
    "df_pca.head()"
   ]
  },
  {
   "cell_type": "markdown",
   "id": "f80cf04f-ff39-41aa-a43e-f52b5712cbb8",
   "metadata": {},
   "source": [
    "# ANOVA"
   ]
  },
  {
   "cell_type": "code",
   "execution_count": 168,
   "id": "9d011c3f-a653-4060-99e9-b4c28fdcb9ab",
   "metadata": {},
   "outputs": [
    {
     "name": "stdout",
     "output_type": "stream",
     "text": [
      "         F-value       p-value\n",
      "PC1  1043.159859  1.412319e-87\n",
      "PC2    14.429384  1.897877e-06\n",
      "PC3     5.290448  6.043825e-03\n",
      "PC4     1.636495  1.981874e-01\n"
     ]
    }
   ],
   "source": [
    "import numpy as np\n",
    "from scipy import stats\n",
    "\n",
    "df_pca_anova_1 = pd.DataFrame(columns=['F-value', 'p-value'])\n",
    "list_species = list(set(df_pca['Species']))\n",
    "for pc in cols_pc:\n",
    "    args = tuple()\n",
    "    for i, species in enumerate(list_species):\n",
    "        args += df_pca[df_pca['Species'] == list_species[i]][pc],\n",
    "\n",
    "    f_value, p_value = stats.f_oneway(*args)\n",
    "    #print(pc, 'F value =', f_value, ', p value =', p_value)\n",
    "    tmp = pd.DataFrame(\n",
    "        np.array([f_value, p_value]).reshape(1, 2),\n",
    "        columns=['F-value', 'p-value'],\n",
    "        index=[pc]\n",
    "    )\n",
    "    df_pca_anova_1 = pd.concat([df_pca_anova_1, tmp], axis=0)\n",
    "\n",
    "print(df_pca_anova_1)    "
   ]
  },
  {
   "cell_type": "code",
   "execution_count": null,
   "id": "9c5e0315-afbb-47e2-8f18-c008c128ac8f",
   "metadata": {},
   "outputs": [],
   "source": []
  },
  {
   "cell_type": "code",
   "execution_count": null,
   "id": "4c21b172-d862-4ff3-a338-05fc59bbd8ee",
   "metadata": {},
   "outputs": [],
   "source": []
  },
  {
   "cell_type": "code",
   "execution_count": null,
   "id": "dd4e7bc9-b9c2-45d4-8d7d-bd09937674e2",
   "metadata": {},
   "outputs": [],
   "source": []
  },
  {
   "cell_type": "code",
   "execution_count": null,
   "id": "803e6a57-b0ee-4d71-b390-e261030622c6",
   "metadata": {},
   "outputs": [],
   "source": []
  }
 ],
 "metadata": {
  "kernelspec": {
   "display_name": "Python 3 (ipykernel)",
   "language": "python",
   "name": "python3"
  },
  "language_info": {
   "codemirror_mode": {
    "name": "ipython",
    "version": 3
   },
   "file_extension": ".py",
   "mimetype": "text/x-python",
   "name": "python",
   "nbconvert_exporter": "python",
   "pygments_lexer": "ipython3",
   "version": "3.10.9"
  }
 },
 "nbformat": 4,
 "nbformat_minor": 5
}
