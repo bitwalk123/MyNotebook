{
 "cells": [
  {
   "cell_type": "markdown",
   "id": "98d6c849-f7d7-404e-a2ab-1de00ac055fa",
   "metadata": {},
   "source": [
    "# Principal Component Analysis & Feature Selection"
   ]
  },
  {
   "cell_type": "markdown",
   "id": "84fa50c4-8fbc-4286-979a-cf53b2f822ca",
   "metadata": {},
   "source": [
    "## PCA"
   ]
  },
  {
   "cell_type": "code",
   "execution_count": 1,
   "id": "4583d363-4c65-4899-b163-27511eaf8b50",
   "metadata": {},
   "outputs": [
    {
     "name": "stderr",
     "output_type": "stream",
     "text": [
      "[0105/140338.705047:WARNING:sandbox_linux.cc(380)] InitializeSandbox() called with multiple threads in process gpu-process.\n",
      "[0105/140338.724294:WARNING:bluez_dbus_manager.cc(247)] Floss manager not present, cannot set Floss enable/disable.\n",
      "[0105/140338.874988:INFO:headless_shell.cc(623)] Written to file /tmp/tmpf5y_edra/temp.png.\n"
     ]
    },
    {
     "data": {
      "text/html": [
       "<div>\n",
       "<style scoped>\n",
       "    .dataframe tbody tr th:only-of-type {\n",
       "        vertical-align: middle;\n",
       "    }\n",
       "\n",
       "    .dataframe tbody tr th {\n",
       "        vertical-align: top;\n",
       "    }\n",
       "\n",
       "    .dataframe thead th {\n",
       "        text-align: right;\n",
       "    }\n",
       "</style>\n",
       "<table border=\"1\" class=\"dataframe\">\n",
       "  <thead>\n",
       "    <tr style=\"text-align: right;\">\n",
       "      <th></th>\n",
       "      <th>Species</th>\n",
       "      <th>PC1</th>\n",
       "      <th>PC2</th>\n",
       "      <th>PC3</th>\n",
       "      <th>PC4</th>\n",
       "    </tr>\n",
       "    <tr>\n",
       "      <th>Id</th>\n",
       "      <th></th>\n",
       "      <th></th>\n",
       "      <th></th>\n",
       "      <th></th>\n",
       "      <th></th>\n",
       "    </tr>\n",
       "  </thead>\n",
       "  <tbody>\n",
       "    <tr>\n",
       "      <th>1</th>\n",
       "      <td>Iris-setosa</td>\n",
       "      <td>-2.264542</td>\n",
       "      <td>0.505704</td>\n",
       "      <td>-0.121943</td>\n",
       "      <td>-0.023073</td>\n",
       "    </tr>\n",
       "    <tr>\n",
       "      <th>2</th>\n",
       "      <td>Iris-setosa</td>\n",
       "      <td>-2.086426</td>\n",
       "      <td>-0.655405</td>\n",
       "      <td>-0.227251</td>\n",
       "      <td>-0.103208</td>\n",
       "    </tr>\n",
       "    <tr>\n",
       "      <th>3</th>\n",
       "      <td>Iris-setosa</td>\n",
       "      <td>-2.367950</td>\n",
       "      <td>-0.318477</td>\n",
       "      <td>0.051480</td>\n",
       "      <td>-0.027825</td>\n",
       "    </tr>\n",
       "    <tr>\n",
       "      <th>4</th>\n",
       "      <td>Iris-setosa</td>\n",
       "      <td>-2.304197</td>\n",
       "      <td>-0.575368</td>\n",
       "      <td>0.098860</td>\n",
       "      <td>0.066311</td>\n",
       "    </tr>\n",
       "    <tr>\n",
       "      <th>5</th>\n",
       "      <td>Iris-setosa</td>\n",
       "      <td>-2.388777</td>\n",
       "      <td>0.674767</td>\n",
       "      <td>0.021428</td>\n",
       "      <td>0.037397</td>\n",
       "    </tr>\n",
       "  </tbody>\n",
       "</table>\n",
       "</div>"
      ],
      "text/plain": [
       "        Species       PC1       PC2       PC3       PC4\n",
       "Id                                                     \n",
       "1   Iris-setosa -2.264542  0.505704 -0.121943 -0.023073\n",
       "2   Iris-setosa -2.086426 -0.655405 -0.227251 -0.103208\n",
       "3   Iris-setosa -2.367950 -0.318477  0.051480 -0.027825\n",
       "4   Iris-setosa -2.304197 -0.575368  0.098860  0.066311\n",
       "5   Iris-setosa -2.388777  0.674767  0.021428  0.037397"
      ]
     },
     "execution_count": 1,
     "metadata": {},
     "output_type": "execute_result"
    }
   ],
   "source": [
    "import pandas as pd\n",
    "import dataframe_image as dfi\n",
    "from sklearn.pipeline import Pipeline\n",
    "from sklearn.preprocessing import StandardScaler\n",
    "from sklearn.decomposition import PCA\n",
    "\n",
    "# https://www.kaggle.com/datasets/saurabh00007/iriscsv\n",
    "filename = 'Iris.csv'\n",
    "df = pd.read_csv(filename, index_col=0)\n",
    "cols_x = list(df.columns[0:4])\n",
    "col_y = df.columns[4]\n",
    "\n",
    "# model pipeline for PCA\n",
    "pipe = Pipeline(steps=[\n",
    "    ('scaler', StandardScaler()),\n",
    "    ('PCA', PCA()),\n",
    "])\n",
    "features = df[cols_x]\n",
    "pipe.fit(features)\n",
    "\n",
    "# PCA scores\n",
    "scores = pipe.transform(features)\n",
    "df_pca = pd.DataFrame(\n",
    "    scores,\n",
    "    columns=[\"PC{}\".format(x + 1) for x in range(scores.shape[1])],\n",
    "    index=df.index\n",
    ")\n",
    "cols_pc = list(df_pca.columns)\n",
    "df_pca.insert(0, col_y, df[col_y].copy())\n",
    "dfi.export(df_pca.head(), 'table_041_iris_PCA.png')\n",
    "df_pca.head()"
   ]
  },
  {
   "cell_type": "markdown",
   "id": "f80cf04f-ff39-41aa-a43e-f52b5712cbb8",
   "metadata": {},
   "source": [
    "# ANOVA"
   ]
  },
  {
   "cell_type": "markdown",
   "id": "bf2305ad-2efa-4d39-b2ac-6cdaec0be00d",
   "metadata": {},
   "source": [
    "## Raw"
   ]
  },
  {
   "cell_type": "code",
   "execution_count": 45,
   "id": "6cc57bfe-02c7-4c25-8113-e0a0fd607233",
   "metadata": {},
   "outputs": [
    {
     "name": "stdout",
     "output_type": "stream",
     "text": [
      "                   F-value       p-value\n",
      "SepalLengthCm   119.264502  1.669669e-31\n",
      "SepalWidthCm     47.364461  1.327917e-16\n",
      "PetalLengthCm  1179.034328  3.051976e-91\n",
      "PetalWidthCm    959.324406  4.376957e-85\n"
     ]
    }
   ],
   "source": [
    "import numpy as np\n",
    "from scipy import stats\n",
    "\n",
    "list_species = list(set(df_pca[col_y]))\n",
    "cols_stat = ['F-value', 'p-value']\n",
    "\n",
    "df_anova = pd.DataFrame(columns=cols_stat)\n",
    "for x in cols_x:\n",
    "    args = [df[df[col_y] == list_species[i]][x] for i, species in enumerate(list_species)]\n",
    "    f_value, p_value = stats.f_oneway(*args)\n",
    "    result = pd.DataFrame(\n",
    "        np.array([f_value, p_value]).reshape(1, 2),\n",
    "        columns=cols_stat,\n",
    "        index=[x]\n",
    "    )\n",
    "    # append row\n",
    "    df_anova = pd.concat([df_anova, result], axis=0)\n",
    "\n",
    "print(df_anova)"
   ]
  },
  {
   "cell_type": "markdown",
   "id": "3b1b98fb-8d24-4b58-ab3c-b1ba45792c28",
   "metadata": {},
   "source": [
    "### Standardize, just in case"
   ]
  },
  {
   "cell_type": "code",
   "execution_count": 47,
   "id": "c76af960-6bc2-497e-9be2-aca8c68e97c5",
   "metadata": {},
   "outputs": [
    {
     "name": "stdout",
     "output_type": "stream",
     "text": [
      "    SepalLengthCm  SepalWidthCm  PetalLengthCm  PetalWidthCm      Species\n",
      "Id                                                                       \n",
      "1       -0.900681      1.032057      -1.341272     -1.312977  Iris-setosa\n",
      "2       -1.143017     -0.124958      -1.341272     -1.312977  Iris-setosa\n",
      "3       -1.385353      0.337848      -1.398138     -1.312977  Iris-setosa\n",
      "4       -1.506521      0.106445      -1.284407     -1.312977  Iris-setosa\n",
      "5       -1.021849      1.263460      -1.341272     -1.312977  Iris-setosa\n",
      "                   F-value       p-value\n",
      "SepalLengthCm   119.264502  1.669669e-31\n",
      "SepalWidthCm     47.364461  1.327917e-16\n",
      "PetalLengthCm  1179.034328  3.051976e-91\n",
      "PetalWidthCm    959.324406  4.376957e-85\n"
     ]
    }
   ],
   "source": [
    "from sklearn.preprocessing import StandardScaler\n",
    "\n",
    "scaler = StandardScaler()\n",
    "\n",
    "df_scaled = pd.DataFrame(scaler.fit_transform(df[cols_x]), columns=cols_x, index=df.index)\n",
    "df_scaled[col_y] = df[col_y]\n",
    "print(df_scaled.head())\n",
    "\n",
    "df_scaled_anova = pd.DataFrame(columns=cols_stat)\n",
    "for x in cols_x:\n",
    "    args = [df_scaled[df_scaled[col_y] == list_species[i]][x] for i, species in enumerate(list_species)]\n",
    "    f_value, p_value = stats.f_oneway(*args)\n",
    "    result = pd.DataFrame(\n",
    "        np.array([f_value, p_value]).reshape(1, 2),\n",
    "        columns=cols_stat,\n",
    "        index=[x]\n",
    "    )\n",
    "    # append row\n",
    "    df_scaled_anova = pd.concat([df_scaled_anova, result], axis=0)\n",
    "\n",
    "print(df_scaled_anova)"
   ]
  },
  {
   "cell_type": "markdown",
   "id": "0f0b1314-f80c-495b-9c71-96431b645366",
   "metadata": {},
   "source": [
    "### bar plot"
   ]
  },
  {
   "cell_type": "code",
   "execution_count": 3,
   "id": "eeb7ec7e-96c8-493b-a659-3589b2b4ec8f",
   "metadata": {},
   "outputs": [
    {
     "data": {
      "image/png": "[encoded data removed]",
      "text/plain": [
       "<Figure size 640x480 with 1 Axes>"
      ]
     },
     "metadata": {},
     "output_type": "display_data"
    }
   ],
   "source": [
    "import matplotlib.pyplot as plt\n",
    "plt.rcParams['font.size'] = 12\n",
    "\n",
    "fig, ax = plt.subplots()\n",
    "plt.bar(df_anova.index, df_anova['F-value'])\n",
    "ax.tick_params(axis='x', which='major', labelsize=10)\n",
    "ax.set_ylabel('F-value')\n",
    "plt.grid(axis='y',linestyle='dotted')\n",
    "plt.savefig('iris_041_Oneway_ANOVA_raw.png')\n",
    "plt.show()"
   ]
  },
  {
   "cell_type": "markdown",
   "id": "eef76b2f-fb5a-4b78-aa4d-b13062c5162d",
   "metadata": {},
   "source": [
    "## PCA"
   ]
  },
  {
   "cell_type": "code",
   "execution_count": 4,
   "id": "ab5efb14-0b33-4c53-a516-7d85c0851695",
   "metadata": {},
   "outputs": [
    {
     "name": "stdout",
     "output_type": "stream",
     "text": [
      "         F-value       p-value\n",
      "PC1  1043.159859  1.412319e-87\n",
      "PC2    14.429384  1.897877e-06\n",
      "PC3     5.290448  6.043825e-03\n",
      "PC4     1.636495  1.981874e-01\n"
     ]
    }
   ],
   "source": [
    "df_pca_anova = pd.DataFrame(columns=cols_stat)\n",
    "for pc in cols_pc:\n",
    "    args = [df_pca[df_pca[col_y] == list_species[i]][pc] for i, species in enumerate(list_species)]\n",
    "    f_value, p_value = stats.f_oneway(*args)\n",
    "    result = pd.DataFrame(\n",
    "        np.array([f_value, p_value]).reshape(1, 2),\n",
    "        columns=cols_stat,\n",
    "        index=[pc]\n",
    "    )\n",
    "    # append row\n",
    "    df_pca_anova = pd.concat([df_pca_anova, result], axis=0)\n",
    "\n",
    "print(df_pca_anova)"
   ]
  },
  {
   "cell_type": "markdown",
   "id": "4ea4b607-36f3-4f0f-b520-99b7c5cf5783",
   "metadata": {},
   "source": [
    "### bar plot"
   ]
  },
  {
   "cell_type": "code",
   "execution_count": 16,
   "id": "abed0781-3ab8-4739-8e60-5d170a255b5a",
   "metadata": {},
   "outputs": [
    {
     "data": {
      "image/png": "[encoded data removed]",
      "text/plain": [
       "<Figure size 640x480 with 1 Axes>"
      ]
     },
     "metadata": {},
     "output_type": "display_data"
    }
   ],
   "source": [
    "fig, ax = plt.subplots()\n",
    "plt.bar(df_pca_anova.index, df_pca_anova['F-value'])\n",
    "ax.set_ylabel('F-value')\n",
    "plt.grid(axis='y',linestyle='dotted')\n",
    "plt.savefig('iris_042_Oneway_ANOVA_PCA.png')\n",
    "plt.show()"
   ]
  },
  {
   "cell_type": "markdown",
   "id": "f4f4c858-b22a-4e94-9ad5-8c7698de40d0",
   "metadata": {},
   "source": [
    "## ANOVA for Feature Selection"
   ]
  },
  {
   "cell_type": "code",
   "execution_count": 15,
   "id": "f5880861-173d-4c96-88b0-59242ce5fd1b",
   "metadata": {},
   "outputs": [
    {
     "name": "stdout",
     "output_type": "stream",
     "text": [
      "scores :    [1043.15985867   14.42938424    5.29044846    1.63649473]\n",
      "p-values :  [1.41231945e-87 1.89787708e-06 6.04382459e-03 1.98187397e-01]\n"
     ]
    }
   ],
   "source": [
    "from sklearn.feature_selection import SelectKBest\n",
    "from sklearn.feature_selection import f_classif\n",
    "\n",
    "selector = SelectKBest(f_classif, k=len(cols_pc))\n",
    "selector.fit(df_pca[cols_pc], df_pca[col_y])\n",
    "print('scores :   ', selector.scores_)\n",
    "print('p-values : ', selector.pvalues_)"
   ]
  },
  {
   "cell_type": "markdown",
   "id": "d91111fb-93eb-4d4c-bcc3-c32776ae84bc",
   "metadata": {},
   "source": [
    "### bar plot"
   ]
  },
  {
   "cell_type": "code",
   "execution_count": 19,
   "id": "79980bde-df9e-4e6b-a56d-a3b73aaec667",
   "metadata": {},
   "outputs": [
    {
     "data": {
      "image/png": "[encoded data removed]",
      "text/plain": [
       "<Figure size 640x480 with 1 Axes>"
      ]
     },
     "metadata": {},
     "output_type": "display_data"
    }
   ],
   "source": [
    "fig, ax = plt.subplots()\n",
    "plt.bar(cols_pc, selector.scores_)\n",
    "ax.set_ylabel('Score (= F-value)')\n",
    "plt.grid(axis='y',linestyle='dotted')\n",
    "plt.savefig('iris_043_Feature_Selection.png')\n",
    "plt.show()"
   ]
  },
  {
   "cell_type": "code",
   "execution_count": null,
   "id": "9588a915-845b-4c8f-bfd4-00abd35ec6ea",
   "metadata": {},
   "outputs": [],
   "source": []
  }
 ],
 "metadata": {
  "kernelspec": {
   "display_name": "Python 3 (ipykernel)",
   "language": "python",
   "name": "python3"
  },
  "language_info": {
   "codemirror_mode": {
    "name": "ipython",
    "version": 3
   },
   "file_extension": ".py",
   "mimetype": "text/x-python",
   "name": "python",
   "nbconvert_exporter": "python",
   "pygments_lexer": "ipython3",
   "version": "3.10.9"
  }
 },
 "nbformat": 4,
 "nbformat_minor": 5
}
