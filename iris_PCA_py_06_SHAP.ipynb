{
 "cells": [
  {
   "cell_type": "markdown",
   "id": "51ca3193-18a6-4b25-8f16-4d5d5d50f718",
   "metadata": {},
   "source": [
    "# Principal Component Analysis & Featue Importance"
   ]
  },
  {
   "cell_type": "markdown",
   "id": "811a7b5e-7925-4e91-9399-2d0a5cb8136c",
   "metadata": {},
   "source": [
    "## PCA"
   ]
  },
  {
   "cell_type": "code",
   "execution_count": 1,
   "id": "86416382-b8b6-4202-a556-b4512ca936df",
   "metadata": {
    "tags": []
   },
   "outputs": [
    {
     "name": "stdout",
     "output_type": "stream",
     "text": [
      "/usr/bin/google-chrome\n"
     ]
    },
    {
     "data": {
      "text/html": [
       "<div>\n",
       "<style scoped>\n",
       "    .dataframe tbody tr th:only-of-type {\n",
       "        vertical-align: middle;\n",
       "    }\n",
       "\n",
       "    .dataframe tbody tr th {\n",
       "        vertical-align: top;\n",
       "    }\n",
       "\n",
       "    .dataframe thead th {\n",
       "        text-align: right;\n",
       "    }\n",
       "</style>\n",
       "<table border=\"1\" class=\"dataframe\">\n",
       "  <thead>\n",
       "    <tr style=\"text-align: right;\">\n",
       "      <th></th>\n",
       "      <th>Species</th>\n",
       "      <th>PC1</th>\n",
       "      <th>PC2</th>\n",
       "      <th>PC3</th>\n",
       "      <th>PC4</th>\n",
       "    </tr>\n",
       "    <tr>\n",
       "      <th>Id</th>\n",
       "      <th></th>\n",
       "      <th></th>\n",
       "      <th></th>\n",
       "      <th></th>\n",
       "      <th></th>\n",
       "    </tr>\n",
       "  </thead>\n",
       "  <tbody>\n",
       "    <tr>\n",
       "      <th>1</th>\n",
       "      <td>Iris-setosa</td>\n",
       "      <td>-2.264542</td>\n",
       "      <td>0.505704</td>\n",
       "      <td>-0.121943</td>\n",
       "      <td>-0.023073</td>\n",
       "    </tr>\n",
       "    <tr>\n",
       "      <th>2</th>\n",
       "      <td>Iris-setosa</td>\n",
       "      <td>-2.086426</td>\n",
       "      <td>-0.655405</td>\n",
       "      <td>-0.227251</td>\n",
       "      <td>-0.103208</td>\n",
       "    </tr>\n",
       "    <tr>\n",
       "      <th>3</th>\n",
       "      <td>Iris-setosa</td>\n",
       "      <td>-2.367950</td>\n",
       "      <td>-0.318477</td>\n",
       "      <td>0.051480</td>\n",
       "      <td>-0.027825</td>\n",
       "    </tr>\n",
       "    <tr>\n",
       "      <th>4</th>\n",
       "      <td>Iris-setosa</td>\n",
       "      <td>-2.304197</td>\n",
       "      <td>-0.575368</td>\n",
       "      <td>0.098860</td>\n",
       "      <td>0.066311</td>\n",
       "    </tr>\n",
       "    <tr>\n",
       "      <th>5</th>\n",
       "      <td>Iris-setosa</td>\n",
       "      <td>-2.388777</td>\n",
       "      <td>0.674767</td>\n",
       "      <td>0.021428</td>\n",
       "      <td>0.037397</td>\n",
       "    </tr>\n",
       "  </tbody>\n",
       "</table>\n",
       "</div>"
      ],
      "text/plain": [
       "        Species       PC1       PC2       PC3       PC4\n",
       "Id                                                     \n",
       "1   Iris-setosa -2.264542  0.505704 -0.121943 -0.023073\n",
       "2   Iris-setosa -2.086426 -0.655405 -0.227251 -0.103208\n",
       "3   Iris-setosa -2.367950 -0.318477  0.051480 -0.027825\n",
       "4   Iris-setosa -2.304197 -0.575368  0.098860  0.066311\n",
       "5   Iris-setosa -2.388777  0.674767  0.021428  0.037397"
      ]
     },
     "execution_count": 1,
     "metadata": {},
     "output_type": "execute_result"
    }
   ],
   "source": [
    "import pandas as pd\n",
    "import dataframe_image as dfi\n",
    "from sklearn.pipeline import Pipeline\n",
    "from sklearn.preprocessing import StandardScaler\n",
    "from sklearn.decomposition import PCA\n",
    "\n",
    "# https://www.kaggle.com/datasets/saurabh00007/iriscsv\n",
    "filename = 'Iris.csv'\n",
    "df = pd.read_csv(filename, index_col=0)\n",
    "cols_x = list(df.columns[0:4])\n",
    "col_y = df.columns[4]\n",
    "\n",
    "# model pipeline for PCA\n",
    "pipe = Pipeline(steps=[\n",
    "    ('scaler', StandardScaler()),\n",
    "    ('PCA', PCA()),\n",
    "])\n",
    "features = df[cols_x]\n",
    "pipe.fit(features)\n",
    "\n",
    "# PCA scores\n",
    "scores = pipe.transform(features)\n",
    "df_pca = pd.DataFrame(\n",
    "    scores,\n",
    "    columns=[\"PC{}\".format(x + 1) for x in range(scores.shape[1])],\n",
    "    index=df.index\n",
    ")\n",
    "cols_pc = list(df_pca.columns)\n",
    "df_pca.insert(0, col_y, df[col_y].copy())\n",
    "dfi.export(df_pca.head(), 'table_061_iris_PCA.png')\n",
    "df_pca.head()"
   ]
  },
  {
   "cell_type": "code",
   "execution_count": null,
   "id": "44f5b7ec-c3f1-4b43-a60b-b2d64a580903",
   "metadata": {},
   "outputs": [],
   "source": []
  }
 ],
 "metadata": {
  "kernelspec": {
   "display_name": "Python 3 (ipykernel)",
   "language": "python",
   "name": "python3"
  },
  "language_info": {
   "codemirror_mode": {
    "name": "ipython",
    "version": 3
   },
   "file_extension": ".py",
   "mimetype": "text/x-python",
   "name": "python",
   "nbconvert_exporter": "python",
   "pygments_lexer": "ipython3",
   "version": "3.10.11"
  }
 },
 "nbformat": 4,
 "nbformat_minor": 5
}
